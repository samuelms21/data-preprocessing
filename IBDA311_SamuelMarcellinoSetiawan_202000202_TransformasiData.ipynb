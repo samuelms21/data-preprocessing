{
 "cells": [
  {
   "cell_type": "markdown",
   "metadata": {},
   "source": [
    "Nama: Samuel Marcellino Setiawan\n",
    "<br>NIM : 202000202"
   ]
  },
  {
   "cell_type": "code",
   "execution_count": 1,
   "metadata": {},
   "outputs": [],
   "source": [
    "import os\n",
    "import glob\n",
    "from pandas import read_csv\n",
    "# from numpy import nan, array\n",
    "# from sklearn.impute import KNNImputer\n",
    "\n",
    "def load_dataset():\n",
    "    path = os.getcwd()\n",
    "    csv_files = glob.glob(os.path.join(path, \"*.csv\"))\n",
    "\n",
    "    df = read_csv('januari.csv')\n",
    "\n",
    "    for i in range(len(csv_files)):\n",
    "        if not csv_files[i] == \"januari.csv\":\n",
    "            df2 = read_csv(csv_files[i])\n",
    "            df = df.append(df2)\n",
    "            \n",
    "    df.drop('pencapaian_Waktu_tempuh', axis=1, inplace=True)\n",
    "    df.dropna(inplace=True)\n",
    "    return df"
   ]
  },
  {
   "cell_type": "code",
   "execution_count": 2,
   "metadata": {},
   "outputs": [],
   "source": [
    "def seperate_input_output(dataframe):\n",
    "    input_variables = [col for col in df.columns if col != 'pencapaian_kecepatan']\n",
    "    X = df[input_variables].values\n",
    "    y = df['pencapaian_kecepatan'].values\n",
    "    \n",
    "    return X, y"
   ]
  },
  {
   "cell_type": "code",
   "execution_count": 3,
   "metadata": {},
   "outputs": [
    {
     "name": "stdout",
     "output_type": "stream",
     "text": [
      "(984, 9)\n",
      "(984, 8) (984,)\n"
     ]
    }
   ],
   "source": [
    "df = load_dataset()\n",
    "X, y = seperate_input_output(df)\n",
    "\n",
    "print(df.shape)\n",
    "print(X.shape, y.shape)"
   ]
  },
  {
   "cell_type": "markdown",
   "metadata": {},
   "source": [
    "## 1. Hitunglah akurasi model regresi linear (gunakan cross validation) tanpa menggunakan scaling maupun encoder"
   ]
  },
  {
   "cell_type": "markdown",
   "metadata": {},
   "source": [
    "Karena belum memakai encoding, fitur dengan nilai non-numerik akan di drop terlebih dahulu"
   ]
  },
  {
   "cell_type": "code",
   "execution_count": 4,
   "metadata": {},
   "outputs": [
    {
     "name": "stdout",
     "output_type": "stream",
     "text": [
      "(984, 9)\n"
     ]
    }
   ],
   "source": [
    "df = load_dataset()\n",
    "print(df.shape)"
   ]
  },
  {
   "cell_type": "code",
   "execution_count": 5,
   "metadata": {},
   "outputs": [
    {
     "name": "stdout",
     "output_type": "stream",
     "text": [
      "(984, 6)\n"
     ]
    }
   ],
   "source": [
    "df.drop(['waktu', 'arah', 'koridor'], axis=1, inplace=True)\n",
    "print(df.shape)"
   ]
  },
  {
   "cell_type": "code",
   "execution_count": 6,
   "metadata": {},
   "outputs": [
    {
     "name": "stdout",
     "output_type": "stream",
     "text": [
      "(984, 5) (984,)\n"
     ]
    }
   ],
   "source": [
    "X, y = seperate_input_output(df)\n",
    "print(X.shape, y.shape)"
   ]
  },
  {
   "cell_type": "code",
   "execution_count": 7,
   "metadata": {},
   "outputs": [
    {
     "name": "stdout",
     "output_type": "stream",
     "text": [
      "MAE: 2.02013583821258 (0.15195026335566902)\n"
     ]
    }
   ],
   "source": [
    "from sklearn.model_selection import KFold, cross_val_score\n",
    "from sklearn.linear_model import LinearRegression\n",
    "from numpy import mean, absolute, std\n",
    "\n",
    "# define which cross-validation method to use\n",
    "cv = KFold(n_splits=10, random_state=1, shuffle=True)\n",
    "# define model\n",
    "model = LinearRegression()\n",
    "# use k-fold cross validation to evaluate\n",
    "scores = cross_val_score(model, X, y, scoring='neg_mean_absolute_error', cv=cv, n_jobs=1)\n",
    "print(f'MAE: {absolute(mean(scores))} ({std(scores)})')"
   ]
  },
  {
   "cell_type": "markdown",
   "metadata": {},
   "source": [
    "## 2. Buatlah histogram untuk tiga cara: (normalisasi, standarisasi, dan robust scaler) untuk fitur numerik, lalu hitunglah akurasi model regresi linear (gunakan cross validation) untuk tiga cara ini (dengan memakai fitur numerik saja)"
   ]
  },
  {
   "cell_type": "code",
   "execution_count": 8,
   "metadata": {},
   "outputs": [],
   "source": [
    "from pandas import DataFrame\n",
    "from sklearn.preprocessing import MinMaxScaler, StandardScaler, RobustScaler\n",
    "from sklearn.model_selection import KFold, cross_val_score\n",
    "from sklearn.linear_model import LinearRegression\n",
    "from matplotlib import pyplot\n",
    "from sklearn.pipeline import Pipeline\n",
    "from numpy import mean, absolute, std\n",
    "\n",
    "def scale_and_evaluate(scaler, model, X, y):\n",
    "    X_trans = scaler.fit_transform(X)\n",
    "    pipeline = Pipeline(steps=[('t', scaler), ('m', model)])\n",
    "    cv = KFold(n_splits=10, random_state=1, shuffle=True)\n",
    "    n_scores = cross_val_score(pipeline, X, y, scoring='neg_mean_absolute_error', cv=cv, n_jobs=1)\n",
    "\n",
    "    fig = DataFrame(X_trans).hist(xlabelsize=5, ylabelsize=5)\n",
    "    [x.title.set_size(5) for x in fig.ravel()]\n",
    "\n",
    "    pyplot.show()\n",
    "    print(f'MAE: {absolute(mean(n_scores))} ({std(n_scores)})')"
   ]
  },
  {
   "cell_type": "markdown",
   "metadata": {},
   "source": [
    "### a. Normalisasi"
   ]
  },
  {
   "cell_type": "code",
   "execution_count": 9,
   "metadata": {},
   "outputs": [
    {
     "name": "stdout",
     "output_type": "stream",
     "text": [
      "(984, 5) (984,)\n"
     ]
    }
   ],
   "source": [
    "df = load_dataset()\n",
    "df.drop(['waktu', 'arah', 'koridor'], axis=1, inplace=True)\n",
    "X, y = seperacte_input_output(df)\n",
    "print(X.shape, y.shape)"
   ]
  },
  {
   "cell_type": "code",
   "execution_count": 10,
   "metadata": {},
   "outputs": [
    {
     "data": {
      "image/png": "[encoded data removed]",
      "text/plain": [
       "<Figure size 432x288 with 6 Axes>"
      ]
     },
     "metadata": {
      "needs_background": "light"
     },
     "output_type": "display_data"
    },
    {
     "name": "stdout",
     "output_type": "stream",
     "text": [
      "MAE: 2.0201358382125796 (0.15195026335567022)\n"
     ]
    }
   ],
   "source": [
    "scale_and_evaluate(MinMaxScaler(), LinearRegression(), X, y)"
   ]
  },
  {
   "cell_type": "markdown",
   "metadata": {},
   "source": [
    "### b. Standarisasi"
   ]
  },
  {
   "cell_type": "code",
   "execution_count": 11,
   "metadata": {},
   "outputs": [
    {
     "data": {
      "image/png": "[encoded data removed]",
      "text/plain": [
       "<Figure size 432x288 with 6 Axes>"
      ]
     },
     "metadata": {
      "needs_background": "light"
     },
     "output_type": "display_data"
    },
    {
     "name": "stdout",
     "output_type": "stream",
     "text": [
      "MAE: 2.0201358382125796 (0.15195026335566988)\n"
     ]
    }
   ],
   "source": [
    "scale_and_evaluate(StandardScaler(), LinearRegression(), X, y)"
   ]
  },
  {
   "cell_type": "markdown",
   "metadata": {},
   "source": [
    "### c. Robust Scaler"
   ]
  },
  {
   "cell_type": "code",
   "execution_count": 12,
   "metadata": {},
   "outputs": [
    {
     "data": {
      "image/png": "[encoded data removed]",
      "text/plain": [
       "<Figure size 432x288 with 6 Axes>"
      ]
     },
     "metadata": {
      "needs_background": "light"
     },
     "output_type": "display_data"
    },
    {
     "name": "stdout",
     "output_type": "stream",
     "text": [
      "MAE: 2.0201358382125796 (0.15195026335566983)\n"
     ]
    }
   ],
   "source": [
    "scale_and_evaluate(RobustScaler(), LinearRegression(), X, y)"
   ]
  },
  {
   "cell_type": "markdown",
   "metadata": {},
   "source": [
    "## 3. Gunakan onehot encoder dan ordinal encoder terhadap dataset untuk fitur kategorial. Lalu hitunglah akurasi model regresi linear (gunakan cross validation) untuk dua cara ini (dengan memakai fitur kategorial saja)"
   ]
  },
  {
   "cell_type": "code",
   "execution_count": 13,
   "metadata": {},
   "outputs": [],
   "source": [
    "from sklearn.preprocessing import OneHotEncoder, OrdinalEncoder\n",
    "from sklearn.model_selection import KFold, cross_val_score\n",
    "from sklearn.linear_model import LinearRegression\n",
    "from numpy import mean, absolute, std\n",
    "\n",
    "def encode_and_evaluate(encoder, model, X, y):\n",
    "    X_trans = encoder.fit_transform(X)\n",
    "    cv = KFold(n_splits=10, random_state=1, shuffle=True)\n",
    "    n_scores = cross_val_score(model, X_trans, y, scoring='neg_mean_absolute_error', cv=cv, n_jobs=1)\n",
    "    return absolute(mean(n_scores)), std(n_scores)"
   ]
  },
  {
   "cell_type": "code",
   "execution_count": 14,
   "metadata": {},
   "outputs": [
    {
     "name": "stdout",
     "output_type": "stream",
     "text": [
      "(984, 4)\n",
      "(984, 3) (984,)\n"
     ]
    }
   ],
   "source": [
    "df = load_dataset()\n",
    "df.drop(['target_kecepatan', 'jarak', 'target_waktu_tempuh', 'pencapaian_kecepatan_per_koridor', 'pencapaian_waktu_tempuh'], axis=1, inplace=True)\n",
    "print(df.shape)\n",
    "\n",
    "X, y = seperate_input_output(df)\n",
    "print(X.shape, y.shape)"
   ]
  },
  {
   "cell_type": "markdown",
   "metadata": {},
   "source": [
    "### a. One Hot Encoder"
   ]
  },
  {
   "cell_type": "code",
   "execution_count": 15,
   "metadata": {},
   "outputs": [
    {
     "name": "stdout",
     "output_type": "stream",
     "text": [
      "MAE: 3.0976750667951842 (0.20587549493818347)\n"
     ]
    }
   ],
   "source": [
    "mae, std_dev = encode_and_evaluate(OneHotEncoder(sparse=False), LinearRegression(), X, y)\n",
    "print(f'MAE: {mae} ({std_dev})')"
   ]
  },
  {
   "cell_type": "markdown",
   "metadata": {},
   "source": [
    "### b. Ordinal Encoder"
   ]
  },
  {
   "cell_type": "code",
   "execution_count": 16,
   "metadata": {
    "scrolled": true
   },
   "outputs": [
    {
     "name": "stdout",
     "output_type": "stream",
     "text": [
      "MAE: 3.3334216106757504 (0.2739522494215703)\n"
     ]
    }
   ],
   "source": [
    "mae, std_dev = encode_and_evaluate(OrdinalEncoder(), LinearRegression(), X, y)\n",
    "print(f'MAE: {mae} ({std_dev})')"
   ]
  },
  {
   "cell_type": "markdown",
   "metadata": {},
   "source": [
    "## 5. Gunakan kombinasi transformasi data apapun (lebih dari 2) untuk semua fitur. Lalu hitunglah akurasi model regresi linear (gunakan cross validation) untuk cara ini (dengan memakai semua fitur yang sudah tertransformasi)"
   ]
  },
  {
   "cell_type": "code",
   "execution_count": 17,
   "metadata": {},
   "outputs": [],
   "source": [
    "from sklearn.preprocessing import OneHotEncoder, OrdinalEncoder, MinMaxScaler, StandardScaler, RobustScaler\n",
    "from sklearn.model_selection import KFold, cross_val_score\n",
    "from sklearn.linear_model import LinearRegression\n",
    "from numpy import mean, absolute, std\n",
    "from pandas import concat"
   ]
  },
  {
   "cell_type": "code",
   "execution_count": 18,
   "metadata": {},
   "outputs": [],
   "source": [
    "def encode_scale_evaluate(encoder, scaler):\n",
    "    df = load_dataset()\n",
    "    y = df['pencapaian_kecepatan'].values\n",
    "    X_cat = df[['waktu', 'arah', 'koridor']].values\n",
    "    X_numeric = df[['target_kecepatan', 'jarak', 'target_waktu_tempuh', 'pencapaian_kecepatan_per_koridor', 'pencapaian_waktu_tempuh']].values\n",
    "    X_cat_trans = DataFrame(encoder.fit_transform(X_cat))\n",
    "    X_numeric_trans = DataFrame(scaler.fit_transform(X_numeric))\n",
    "    df2 = concat([X_numeric_trans, X_cat_trans], axis=1, ignore_index=True)\n",
    "    X_complete_trans = df2.values\n",
    "    model = LinearRegression()\n",
    "    cv = KFold(n_splits=10, random_state=1, shuffle=True)\n",
    "    n_scores = cross_val_score(model, X_complete_trans, y, scoring='neg_mean_absolute_error', cv=cv, n_jobs=1)\n",
    "    print(f'MAE: {absolute(mean(n_scores))} ({std(n_scores)})')"
   ]
  },
  {
   "cell_type": "markdown",
   "metadata": {},
   "source": [
    "### a. Normalisasi & One Hot Encoding"
   ]
  },
  {
   "cell_type": "code",
   "execution_count": 19,
   "metadata": {},
   "outputs": [
    {
     "name": "stdout",
     "output_type": "stream",
     "text": [
      "MAE: 1.3383242372706659 (0.1334354430077412)\n"
     ]
    }
   ],
   "source": [
    "encode_scale_evaluate(OneHotEncoder(sparse=False), MinMaxScaler())"
   ]
  },
  {
   "cell_type": "markdown",
   "metadata": {},
   "source": [
    "### b. Normalisasi & OrdinalEncoder"
   ]
  },
  {
   "cell_type": "code",
   "execution_count": 20,
   "metadata": {},
   "outputs": [
    {
     "name": "stdout",
     "output_type": "stream",
     "text": [
      "MAE: 1.9493690786966595 (0.1673803655669694)\n"
     ]
    }
   ],
   "source": [
    "encode_scale_evaluate(OrdinalEncoder(), MinMaxScaler())"
   ]
  },
  {
   "cell_type": "markdown",
   "metadata": {},
   "source": [
    "### c. Standarisasi & One Hot Encoding"
   ]
  },
  {
   "cell_type": "code",
   "execution_count": 21,
   "metadata": {},
   "outputs": [
    {
     "name": "stdout",
     "output_type": "stream",
     "text": [
      "MAE: 1.3358506343529362 (0.12906116438043036)\n"
     ]
    }
   ],
   "source": [
    "encode_scale_evaluate(OneHotEncoder(sparse=False), StandardScaler())"
   ]
  },
  {
   "cell_type": "markdown",
   "metadata": {},
   "source": [
    "### d. Standarisasi & OrdinalEncoder"
   ]
  },
  {
   "cell_type": "code",
   "execution_count": 22,
   "metadata": {},
   "outputs": [
    {
     "name": "stdout",
     "output_type": "stream",
     "text": [
      "MAE: 1.9493690786966602 (0.16738036556696995)\n"
     ]
    }
   ],
   "source": [
    "encode_scale_evaluate(OrdinalEncoder(), StandardScaler())"
   ]
  },
  {
   "cell_type": "markdown",
   "metadata": {},
   "source": [
    "### e. RobustScaler & One Hot Encoding"
   ]
  },
  {
   "cell_type": "code",
   "execution_count": 23,
   "metadata": {},
   "outputs": [
    {
     "name": "stdout",
     "output_type": "stream",
     "text": [
      "MAE: 1.3340612962573761 (0.13002955838235514)\n"
     ]
    }
   ],
   "source": [
    "encode_scale_evaluate(OneHotEncoder(sparse=False), RobustScaler())"
   ]
  },
  {
   "cell_type": "markdown",
   "metadata": {},
   "source": [
    "### f. RobustScaler & OrdinalEncoder"
   ]
  },
  {
   "cell_type": "code",
   "execution_count": 24,
   "metadata": {},
   "outputs": [
    {
     "name": "stdout",
     "output_type": "stream",
     "text": [
      "MAE: 1.9493690786966607 (0.16738036556697017)\n"
     ]
    }
   ],
   "source": [
    "encode_scale_evaluate(OrdinalEncoder(), RobustScaler())"
   ]
  },
  {
   "cell_type": "markdown",
   "metadata": {},
   "source": [
    "## 6. Bandingkan akurasi setiap skenario (dengan metrik MAE)"
   ]
  },
  {
   "cell_type": "markdown",
   "metadata": {},
   "source": [
    " <table>\n",
    "      <tr>\n",
    "        <th>Encoding</th>\n",
    "        <th>Scaling</th>\n",
    "        <th>MAE</th>\n",
    "      </tr>\n",
    "      <tr>\n",
    "        <td>OneHotEncoder</td>\n",
    "        <td>MinMaxScaler</td>\n",
    "        <td>1.3383242372706659</td>\n",
    "      </tr>\n",
    "      <tr>\n",
    "        <td>OrdinalEncoder</td>\n",
    "        <td>MinMaxScaler</td>\n",
    "        <td>1.9493690786966595</td>\n",
    "      </tr>\n",
    "      <tr>\n",
    "        <td>OneHotEncoder</td>\n",
    "        <td>StandardScaler</td>\n",
    "        <td>1.3358506343529362</td>\n",
    "      </tr>\n",
    "      <tr>\n",
    "        <td>OrdinalEncoder</td>\n",
    "        <td>StandardScaler</td>\n",
    "        <td>1.9493690786966602</td>\n",
    "      </tr>\n",
    "      <tr>\n",
    "        <td>OneHotEncoder</td>\n",
    "        <td>RobustScaler</td>\n",
    "        <td>1.3340612962573761</td>\n",
    "      </tr>\n",
    "      <tr>\n",
    "        <td>OrdinalEncoder</td>\n",
    "        <td>RobustScaler</td>\n",
    "        <td>1.9493690786966607</td>\n",
    "      </tr>\n",
    "    </table>"
   ]
  }
 ],
 "metadata": {
  "kernelspec": {
   "display_name": "Python 3",
   "language": "python",
   "name": "python3"
  },
  "language_info": {
   "codemirror_mode": {
    "name": "ipython",
    "version": 3
   },
   "file_extension": ".py",
   "mimetype": "text/x-python",
   "name": "python",
   "nbconvert_exporter": "python",
   "pygments_lexer": "ipython3",
   "version": "3.8.5"
  }
 },
 "nbformat": 4,
 "nbformat_minor": 4
}
